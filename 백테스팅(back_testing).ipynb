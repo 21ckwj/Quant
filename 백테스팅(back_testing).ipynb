{
 "cells": [
  {
   "cell_type": "markdown",
   "id": "9bacae58",
   "metadata": {},
   "source": [
    "# Back Testing"
   ]
  },
  {
   "cell_type": "code",
   "execution_count": 97,
   "id": "fffa9761",
   "metadata": {
    "ExecuteTime": {
     "end_time": "2022-04-28T07:19:28.508402Z",
     "start_time": "2022-04-28T07:19:28.495436Z"
    }
   },
   "outputs": [],
   "source": [
    "import pandas as pd\n",
    "import numpy as np\n",
    "import matplotlib.pyplot as plt\n",
    "import seaborn as sns"
   ]
  },
  {
   "cell_type": "code",
   "execution_count": 98,
   "id": "c9ce0a84",
   "metadata": {
    "ExecuteTime": {
     "end_time": "2022-04-28T07:19:28.708889Z",
     "start_time": "2022-04-28T07:19:28.703879Z"
    }
   },
   "outputs": [],
   "source": [
    "import FinanceDataReader as fdr"
   ]
  },
  {
   "cell_type": "code",
   "execution_count": 99,
   "id": "8b881112",
   "metadata": {
    "ExecuteTime": {
     "end_time": "2022-04-28T07:19:28.862454Z",
     "start_time": "2022-04-28T07:19:28.847495Z"
    }
   },
   "outputs": [],
   "source": [
    "import plotly.express as plt\n",
    "import plotly.graph_objects as go"
   ]
  },
  {
   "cell_type": "code",
   "execution_count": 100,
   "id": "7f7dd90f",
   "metadata": {
    "ExecuteTime": {
     "end_time": "2022-04-28T07:19:29.017041Z",
     "start_time": "2022-04-28T07:19:29.008065Z"
    }
   },
   "outputs": [],
   "source": [
    "def get_returns_df(df, N=1, log=False):\n",
    "    if log: \n",
    "        return np.log(df/df.shift(N)).iloc[N-1:].fillna(0) # log수익률\n",
    "    else:\n",
    "        return df.pct_change(N, fill_method= None).iloc[N-1:].fillna(0) # 단순수익률\n",
    "    \n",
    "def get_cum_returns_df(return_df, log=False):\n",
    "    if log:\n",
    "        return np.exp(return_df.cumsum())\n",
    "    else:\n",
    "        return (1 + return_df).cumprod()"
   ]
  },
  {
   "cell_type": "code",
   "execution_count": 101,
   "id": "ade81701",
   "metadata": {
    "ExecuteTime": {
     "end_time": "2022-04-28T07:19:29.171657Z",
     "start_time": "2022-04-28T07:19:29.150696Z"
    }
   },
   "outputs": [],
   "source": [
    "# 성과지표들\n",
    "\n",
    "def get_annualized_returns_series(log_return_df, num_day_in_year=250):\n",
    "    return(log_return_df.mean()*num_day_in_year).round(2)\n",
    "\n",
    "def get_annualized_std_series(log_return_df, num_day_in_year=250):\n",
    "    return (log_return_df.std() * (num_day_in_year ** 0.5)).round(2)\n",
    "\n",
    "\n",
    "def get_cagr_series(cum_rtn_df, num_day_in_year= 250):\n",
    "    cagr_series = cum_rtn_df.iloc[-1]**(num_day_in_year/(len(cum_rtn_df)))\n",
    "    return cagr_series\n",
    "\n",
    "\n",
    "def get_sharpe_ratio(log_rtn_df, yearly_rfr = 0.025):\n",
    "    excess_rtns = log_rtn_df.mean()*252 -yearly_rfr\n",
    "    return excess_rtns / (log_rtn_df.std() * np.sqrt(252))\n",
    "\n",
    "def get_drawdown_infos(cum_returns_df):\n",
    "    cummax_df = cum_returns_df.cummax()\n",
    "    dd_df = cum_returns_df / cummax_df -1\n",
    "    \n",
    "    mdd_series = dd_df.min()\n",
    "    \n",
    "    max_point_df = dd_df[dd_df==0]\n",
    "    \n",
    "    first_df = max_point_df.index[:-1]\n",
    "    second_df = max_point_df.index[1:]\n",
    "    \n",
    "    period = second_df-first_df\n",
    "    \n",
    "    longest_dd_period = period.max().days\n",
    "    \n",
    "    ldd_st = first_df[period.argmax()]\n",
    "    ldd_ed = second_df[period.argmax()]\n",
    "    \n",
    "    return mdd_series, longest_dd_period, ldd_st, ldd_ed"
   ]
  },
  {
   "cell_type": "markdown",
   "id": "8f8eb44a",
   "metadata": {},
   "source": [
    "## 이동평균선 매매전략"
   ]
  },
  {
   "cell_type": "code",
   "execution_count": 102,
   "id": "c4e59d91",
   "metadata": {
    "ExecuteTime": {
     "end_time": "2022-04-28T07:19:29.916636Z",
     "start_time": "2022-04-28T07:19:29.795958Z"
    }
   },
   "outputs": [
    {
     "data": {
      "text/html": [
       "<div>\n",
       "<style scoped>\n",
       "    .dataframe tbody tr th:only-of-type {\n",
       "        vertical-align: middle;\n",
       "    }\n",
       "\n",
       "    .dataframe tbody tr th {\n",
       "        vertical-align: top;\n",
       "    }\n",
       "\n",
       "    .dataframe thead th {\n",
       "        text-align: right;\n",
       "    }\n",
       "</style>\n",
       "<table border=\"1\" class=\"dataframe\">\n",
       "  <thead>\n",
       "    <tr style=\"text-align: right;\">\n",
       "      <th></th>\n",
       "      <th>Open</th>\n",
       "      <th>High</th>\n",
       "      <th>Low</th>\n",
       "      <th>Close</th>\n",
       "      <th>Volume</th>\n",
       "      <th>Change</th>\n",
       "    </tr>\n",
       "    <tr>\n",
       "      <th>Date</th>\n",
       "      <th></th>\n",
       "      <th></th>\n",
       "      <th></th>\n",
       "      <th></th>\n",
       "      <th></th>\n",
       "      <th></th>\n",
       "    </tr>\n",
       "  </thead>\n",
       "  <tbody>\n",
       "    <tr>\n",
       "      <th>2010-01-04</th>\n",
       "      <td>16060</td>\n",
       "      <td>16180</td>\n",
       "      <td>16000</td>\n",
       "      <td>16180</td>\n",
       "      <td>239271</td>\n",
       "      <td>0.012516</td>\n",
       "    </tr>\n",
       "    <tr>\n",
       "      <th>2010-01-05</th>\n",
       "      <td>16520</td>\n",
       "      <td>16580</td>\n",
       "      <td>16300</td>\n",
       "      <td>16440</td>\n",
       "      <td>559219</td>\n",
       "      <td>0.016069</td>\n",
       "    </tr>\n",
       "    <tr>\n",
       "      <th>2010-01-06</th>\n",
       "      <td>16580</td>\n",
       "      <td>16820</td>\n",
       "      <td>16520</td>\n",
       "      <td>16820</td>\n",
       "      <td>459755</td>\n",
       "      <td>0.023114</td>\n",
       "    </tr>\n",
       "    <tr>\n",
       "      <th>2010-01-07</th>\n",
       "      <td>16820</td>\n",
       "      <td>16820</td>\n",
       "      <td>16260</td>\n",
       "      <td>16260</td>\n",
       "      <td>443237</td>\n",
       "      <td>-0.033294</td>\n",
       "    </tr>\n",
       "    <tr>\n",
       "      <th>2010-01-08</th>\n",
       "      <td>16400</td>\n",
       "      <td>16420</td>\n",
       "      <td>16120</td>\n",
       "      <td>16420</td>\n",
       "      <td>295798</td>\n",
       "      <td>0.009840</td>\n",
       "    </tr>\n",
       "    <tr>\n",
       "      <th>...</th>\n",
       "      <td>...</td>\n",
       "      <td>...</td>\n",
       "      <td>...</td>\n",
       "      <td>...</td>\n",
       "      <td>...</td>\n",
       "      <td>...</td>\n",
       "    </tr>\n",
       "    <tr>\n",
       "      <th>2020-10-26</th>\n",
       "      <td>60400</td>\n",
       "      <td>61100</td>\n",
       "      <td>60100</td>\n",
       "      <td>60400</td>\n",
       "      <td>13268226</td>\n",
       "      <td>0.003322</td>\n",
       "    </tr>\n",
       "    <tr>\n",
       "      <th>2020-10-27</th>\n",
       "      <td>60300</td>\n",
       "      <td>60300</td>\n",
       "      <td>59500</td>\n",
       "      <td>59800</td>\n",
       "      <td>17260416</td>\n",
       "      <td>-0.009934</td>\n",
       "    </tr>\n",
       "    <tr>\n",
       "      <th>2020-10-28</th>\n",
       "      <td>59400</td>\n",
       "      <td>59400</td>\n",
       "      <td>58800</td>\n",
       "      <td>59000</td>\n",
       "      <td>14428882</td>\n",
       "      <td>-0.013378</td>\n",
       "    </tr>\n",
       "    <tr>\n",
       "      <th>2020-10-29</th>\n",
       "      <td>58200</td>\n",
       "      <td>58500</td>\n",
       "      <td>57500</td>\n",
       "      <td>58100</td>\n",
       "      <td>22636966</td>\n",
       "      <td>-0.015254</td>\n",
       "    </tr>\n",
       "    <tr>\n",
       "      <th>2020-10-30</th>\n",
       "      <td>58000</td>\n",
       "      <td>58000</td>\n",
       "      <td>56600</td>\n",
       "      <td>56600</td>\n",
       "      <td>26907844</td>\n",
       "      <td>-0.025818</td>\n",
       "    </tr>\n",
       "  </tbody>\n",
       "</table>\n",
       "<p>2672 rows × 6 columns</p>\n",
       "</div>"
      ],
      "text/plain": [
       "             Open   High    Low  Close    Volume    Change\n",
       "Date                                                      \n",
       "2010-01-04  16060  16180  16000  16180    239271  0.012516\n",
       "2010-01-05  16520  16580  16300  16440    559219  0.016069\n",
       "2010-01-06  16580  16820  16520  16820    459755  0.023114\n",
       "2010-01-07  16820  16820  16260  16260    443237 -0.033294\n",
       "2010-01-08  16400  16420  16120  16420    295798  0.009840\n",
       "...           ...    ...    ...    ...       ...       ...\n",
       "2020-10-26  60400  61100  60100  60400  13268226  0.003322\n",
       "2020-10-27  60300  60300  59500  59800  17260416 -0.009934\n",
       "2020-10-28  59400  59400  58800  59000  14428882 -0.013378\n",
       "2020-10-29  58200  58500  57500  58100  22636966 -0.015254\n",
       "2020-10-30  58000  58000  56600  56600  26907844 -0.025818\n",
       "\n",
       "[2672 rows x 6 columns]"
      ]
     },
     "execution_count": 102,
     "metadata": {},
     "output_type": "execute_result"
    }
   ],
   "source": [
    "df = fdr.DataReader('005930', '2010-01-02', '2020-10-30')\n",
    "df"
   ]
  },
  {
   "cell_type": "code",
   "execution_count": 103,
   "id": "e2121638",
   "metadata": {
    "ExecuteTime": {
     "end_time": "2022-04-28T07:19:29.978501Z",
     "start_time": "2022-04-28T07:19:29.963510Z"
    }
   },
   "outputs": [],
   "source": [
    "# 단기 이동평균선 (short moving average)\n",
    "# 장기 이동평균선\n",
    "df['sma'] = df.Close.rolling(5).mean()\n",
    "df['lma'] = df.Close.rolling(20).mean()"
   ]
  },
  {
   "cell_type": "code",
   "execution_count": 104,
   "id": "4b252e21",
   "metadata": {
    "ExecuteTime": {
     "end_time": "2022-04-28T07:19:30.025373Z",
     "start_time": "2022-04-28T07:19:30.010385Z"
    }
   },
   "outputs": [
    {
     "data": {
      "text/html": [
       "<div>\n",
       "<style scoped>\n",
       "    .dataframe tbody tr th:only-of-type {\n",
       "        vertical-align: middle;\n",
       "    }\n",
       "\n",
       "    .dataframe tbody tr th {\n",
       "        vertical-align: top;\n",
       "    }\n",
       "\n",
       "    .dataframe thead th {\n",
       "        text-align: right;\n",
       "    }\n",
       "</style>\n",
       "<table border=\"1\" class=\"dataframe\">\n",
       "  <thead>\n",
       "    <tr style=\"text-align: right;\">\n",
       "      <th></th>\n",
       "      <th>Open</th>\n",
       "      <th>High</th>\n",
       "      <th>Low</th>\n",
       "      <th>Close</th>\n",
       "      <th>Volume</th>\n",
       "      <th>Change</th>\n",
       "      <th>sma</th>\n",
       "      <th>lma</th>\n",
       "    </tr>\n",
       "    <tr>\n",
       "      <th>Date</th>\n",
       "      <th></th>\n",
       "      <th></th>\n",
       "      <th></th>\n",
       "      <th></th>\n",
       "      <th></th>\n",
       "      <th></th>\n",
       "      <th></th>\n",
       "      <th></th>\n",
       "    </tr>\n",
       "  </thead>\n",
       "  <tbody>\n",
       "    <tr>\n",
       "      <th>2010-01-04</th>\n",
       "      <td>16060</td>\n",
       "      <td>16180</td>\n",
       "      <td>16000</td>\n",
       "      <td>16180</td>\n",
       "      <td>239271</td>\n",
       "      <td>0.012516</td>\n",
       "      <td>NaN</td>\n",
       "      <td>NaN</td>\n",
       "    </tr>\n",
       "    <tr>\n",
       "      <th>2010-01-05</th>\n",
       "      <td>16520</td>\n",
       "      <td>16580</td>\n",
       "      <td>16300</td>\n",
       "      <td>16440</td>\n",
       "      <td>559219</td>\n",
       "      <td>0.016069</td>\n",
       "      <td>NaN</td>\n",
       "      <td>NaN</td>\n",
       "    </tr>\n",
       "    <tr>\n",
       "      <th>2010-01-06</th>\n",
       "      <td>16580</td>\n",
       "      <td>16820</td>\n",
       "      <td>16520</td>\n",
       "      <td>16820</td>\n",
       "      <td>459755</td>\n",
       "      <td>0.023114</td>\n",
       "      <td>NaN</td>\n",
       "      <td>NaN</td>\n",
       "    </tr>\n",
       "    <tr>\n",
       "      <th>2010-01-07</th>\n",
       "      <td>16820</td>\n",
       "      <td>16820</td>\n",
       "      <td>16260</td>\n",
       "      <td>16260</td>\n",
       "      <td>443237</td>\n",
       "      <td>-0.033294</td>\n",
       "      <td>NaN</td>\n",
       "      <td>NaN</td>\n",
       "    </tr>\n",
       "    <tr>\n",
       "      <th>2010-01-08</th>\n",
       "      <td>16400</td>\n",
       "      <td>16420</td>\n",
       "      <td>16120</td>\n",
       "      <td>16420</td>\n",
       "      <td>295798</td>\n",
       "      <td>0.009840</td>\n",
       "      <td>16424.0</td>\n",
       "      <td>NaN</td>\n",
       "    </tr>\n",
       "  </tbody>\n",
       "</table>\n",
       "</div>"
      ],
      "text/plain": [
       "             Open   High    Low  Close  Volume    Change      sma  lma\n",
       "Date                                                                  \n",
       "2010-01-04  16060  16180  16000  16180  239271  0.012516      NaN  NaN\n",
       "2010-01-05  16520  16580  16300  16440  559219  0.016069      NaN  NaN\n",
       "2010-01-06  16580  16820  16520  16820  459755  0.023114      NaN  NaN\n",
       "2010-01-07  16820  16820  16260  16260  443237 -0.033294      NaN  NaN\n",
       "2010-01-08  16400  16420  16120  16420  295798  0.009840  16424.0  NaN"
      ]
     },
     "execution_count": 104,
     "metadata": {},
     "output_type": "execute_result"
    }
   ],
   "source": [
    "df.head()"
   ]
  },
  {
   "cell_type": "code",
   "execution_count": 105,
   "id": "3ad53b9d",
   "metadata": {
    "ExecuteTime": {
     "end_time": "2022-04-28T07:19:30.071254Z",
     "start_time": "2022-04-28T07:19:30.058257Z"
    }
   },
   "outputs": [],
   "source": [
    "df.dropna(inplace=True)"
   ]
  },
  {
   "cell_type": "code",
   "execution_count": 106,
   "id": "ad076822",
   "metadata": {
    "ExecuteTime": {
     "end_time": "2022-04-28T07:19:30.241797Z",
     "start_time": "2022-04-28T07:19:30.103138Z"
    }
   },
   "outputs": [
    {
     "data": {
      "text/plain": [
       "<AxesSubplot:xlabel='Date'>"
      ]
     },
     "execution_count": 106,
     "metadata": {},
     "output_type": "execute_result"
    },
    {
     "data": {
      "image/png": "[encoded data removed]",
      "text/plain": [
       "<Figure size 1080x360 with 1 Axes>"
      ]
     },
     "metadata": {
      "needs_background": "light"
     },
     "output_type": "display_data"
    }
   ],
   "source": [
    "df[['sma','lma']].plot(figsize=(15,5))"
   ]
  },
  {
   "cell_type": "code",
   "execution_count": 107,
   "id": "66076a56",
   "metadata": {
    "ExecuteTime": {
     "end_time": "2022-04-28T07:19:30.396386Z",
     "start_time": "2022-04-28T07:19:30.242764Z"
    }
   },
   "outputs": [
    {
     "data": {
      "text/plain": [
       "<AxesSubplot:xlabel='Date'>"
      ]
     },
     "execution_count": 107,
     "metadata": {},
     "output_type": "execute_result"
    },
    {
     "data": {
      "image/png": "[encoded data removed]",
      "text/plain": [
       "<Figure size 1080x360 with 1 Axes>"
      ]
     },
     "metadata": {
      "needs_background": "light"
     },
     "output_type": "display_data"
    }
   ],
   "source": [
    "# df[['Close','sma','lma']].iloc[-200:].plot(figsize=(15,5))\n",
    "df[['sma','lma']].iloc[-200:].plot(figsize=(15,5))\n"
   ]
  },
  {
   "cell_type": "code",
   "execution_count": 108,
   "id": "816b9a69",
   "metadata": {
    "ExecuteTime": {
     "end_time": "2022-04-28T07:19:30.473178Z",
     "start_time": "2022-04-28T07:19:30.458188Z"
    }
   },
   "outputs": [],
   "source": [
    "# 매수 매도 포지션 : 단기가 장기보다 클때\n",
    "# 이동평균선 매매 기본전략\n",
    "\n",
    "df['position'] = np.where(df['sma']>=df['lma'],1,0)"
   ]
  },
  {
   "cell_type": "code",
   "execution_count": 109,
   "id": "b0f737c6",
   "metadata": {
    "ExecuteTime": {
     "end_time": "2022-04-28T07:19:30.754424Z",
     "start_time": "2022-04-28T07:19:30.505063Z"
    }
   },
   "outputs": [
    {
     "data": {
      "text/plain": [
       "<AxesSubplot:xlabel='Date'>"
      ]
     },
     "execution_count": 109,
     "metadata": {},
     "output_type": "execute_result"
    },
    {
     "data": {
      "image/png": "[encoded data removed]",
      "text/plain": [
       "<Figure size 1080x72 with 1 Axes>"
      ]
     },
     "metadata": {
      "needs_background": "light"
     },
     "output_type": "display_data"
    }
   ],
   "source": [
    "df['position'].plot(marker='.', linestyle='none', figsize=(15,1))"
   ]
  },
  {
   "cell_type": "code",
   "execution_count": 110,
   "id": "a77198e6",
   "metadata": {
    "ExecuteTime": {
     "end_time": "2022-04-28T07:19:30.864131Z",
     "start_time": "2022-04-28T07:19:30.757388Z"
    }
   },
   "outputs": [
    {
     "data": {
      "text/plain": [
       "<AxesSubplot:xlabel='Date'>"
      ]
     },
     "execution_count": 110,
     "metadata": {},
     "output_type": "execute_result"
    },
    {
     "data": {
      "image/png": "[encoded data removed]",
      "text/plain": [
       "<Figure size 1080x144 with 1 Axes>"
      ]
     },
     "metadata": {
      "needs_background": "light"
     },
     "output_type": "display_data"
    }
   ],
   "source": [
    "df['position'][-300:].plot(marker='.', linestyle='none', figsize=(15,2), ylim=[-1.01,1.7])"
   ]
  },
  {
   "cell_type": "code",
   "execution_count": 111,
   "id": "8bf7693e",
   "metadata": {
    "ExecuteTime": {
     "end_time": "2022-04-28T07:19:30.941922Z",
     "start_time": "2022-04-28T07:19:30.926935Z"
    }
   },
   "outputs": [],
   "source": [
    "long_index = df[(df['position']-df['position'].shift(1))== 1].index\n",
    "exit_index = df[(df['position']-df['position'].shift(1))== -1].index"
   ]
  },
  {
   "cell_type": "code",
   "execution_count": 112,
   "id": "8abc5d60",
   "metadata": {
    "ExecuteTime": {
     "end_time": "2022-04-28T07:19:30.987799Z",
     "start_time": "2022-04-28T07:19:30.973809Z"
    }
   },
   "outputs": [
    {
     "data": {
      "text/plain": [
       "DatetimeIndex(['2010-03-05', '2010-06-08', '2010-07-14', '2010-10-04',\n",
       "               '2010-10-26', '2010-11-08', '2011-01-18', '2011-03-29',\n",
       "               '2011-04-27', '2011-05-02', '2011-06-01', '2011-07-05',\n",
       "               '2011-08-03', '2011-09-01', '2011-11-30', '2011-12-26',\n",
       "               '2012-01-25', '2012-02-15', '2012-04-26', '2012-06-12',\n",
       "               '2012-07-19', '2012-09-12', '2012-11-06', '2013-02-13',\n",
       "               '2013-03-29', '2013-05-03', '2013-05-21', '2013-05-30',\n",
       "               '2013-07-17', '2013-07-25', '2013-08-19', '2013-10-02',\n",
       "               '2013-11-20', '2014-01-27', '2014-02-13', '2014-03-31',\n",
       "               '2014-05-14', '2014-07-18', '2014-10-30', '2014-11-27',\n",
       "               '2014-12-19', '2015-01-13', '2015-02-25', '2015-04-09',\n",
       "               '2015-04-22', '2015-06-25', '2015-07-02', '2015-07-21',\n",
       "               '2015-09-08', '2015-10-07', '2015-12-01', '2015-12-22',\n",
       "               '2015-12-24', '2016-02-02', '2016-02-17', '2016-04-18',\n",
       "               '2016-05-11', '2016-05-25', '2016-07-01', '2016-09-08',\n",
       "               '2016-10-04', '2016-10-21', '2016-11-01', '2016-11-24',\n",
       "               '2017-02-23', '2017-04-13', '2017-04-27', '2017-06-09',\n",
       "               '2017-08-25', '2017-09-06', '2018-01-04', '2018-01-29',\n",
       "               '2018-03-08', '2018-04-17', '2018-05-28', '2018-06-07',\n",
       "               '2018-07-19', '2018-08-27', '2018-09-21', '2018-11-06',\n",
       "               '2019-01-11', '2019-03-25', '2019-06-04', '2019-07-15',\n",
       "               '2019-08-28', '2019-08-30', '2019-10-11', '2019-12-12',\n",
       "               '2020-02-10', '2020-04-07', '2020-05-21', '2020-07-06',\n",
       "               '2020-09-09', '2020-10-08'],\n",
       "              dtype='datetime64[ns]', name='Date', freq=None)"
      ]
     },
     "execution_count": 112,
     "metadata": {},
     "output_type": "execute_result"
    }
   ],
   "source": [
    "long_index"
   ]
  },
  {
   "cell_type": "code",
   "execution_count": 113,
   "id": "52196d7e",
   "metadata": {
    "ExecuteTime": {
     "end_time": "2022-04-28T07:19:31.190231Z",
     "start_time": "2022-04-28T07:19:31.020684Z"
    }
   },
   "outputs": [
    {
     "data": {
      "text/plain": [
       "<AxesSubplot:xlabel='Date'>"
      ]
     },
     "execution_count": 113,
     "metadata": {},
     "output_type": "execute_result"
    },
    {
     "data": {
      "image/png": "[encoded data removed]",
      "text/plain": [
       "<Figure size 1080x360 with 1 Axes>"
      ]
     },
     "metadata": {
      "needs_background": "light"
     },
     "output_type": "display_data"
    }
   ],
   "source": [
    "df[['sma','lma']].loc['2018-01-01':].plot(figsize=(15,5))\n",
    "df.loc[long_index,'sma'].loc['2018-01-01':].plot(marker='o',color='red',linestyle='none',markersize=5)\n",
    "df.loc[exit_index,'sma'].loc['2018-01-01':].plot(marker='o',color='blue',linestyle='none',markersize=5)"
   ]
  },
  {
   "cell_type": "code",
   "execution_count": null,
   "id": "41411e4b",
   "metadata": {},
   "outputs": [],
   "source": []
  },
  {
   "cell_type": "code",
   "execution_count": 114,
   "id": "4a724a20",
   "metadata": {
    "ExecuteTime": {
     "end_time": "2022-04-28T07:19:31.236135Z",
     "start_time": "2022-04-28T07:19:31.222146Z"
    }
   },
   "outputs": [
    {
     "data": {
      "text/html": [
       "<div>\n",
       "<style scoped>\n",
       "    .dataframe tbody tr th:only-of-type {\n",
       "        vertical-align: middle;\n",
       "    }\n",
       "\n",
       "    .dataframe tbody tr th {\n",
       "        vertical-align: top;\n",
       "    }\n",
       "\n",
       "    .dataframe thead th {\n",
       "        text-align: right;\n",
       "    }\n",
       "</style>\n",
       "<table border=\"1\" class=\"dataframe\">\n",
       "  <thead>\n",
       "    <tr style=\"text-align: right;\">\n",
       "      <th></th>\n",
       "      <th>Open</th>\n",
       "      <th>High</th>\n",
       "      <th>Low</th>\n",
       "      <th>Close</th>\n",
       "      <th>Volume</th>\n",
       "      <th>Change</th>\n",
       "      <th>sma</th>\n",
       "      <th>lma</th>\n",
       "      <th>position</th>\n",
       "      <th>rtn</th>\n",
       "    </tr>\n",
       "    <tr>\n",
       "      <th>Date</th>\n",
       "      <th></th>\n",
       "      <th></th>\n",
       "      <th></th>\n",
       "      <th></th>\n",
       "      <th></th>\n",
       "      <th></th>\n",
       "      <th></th>\n",
       "      <th></th>\n",
       "      <th></th>\n",
       "      <th></th>\n",
       "    </tr>\n",
       "  </thead>\n",
       "  <tbody>\n",
       "    <tr>\n",
       "      <th>2010-01-29</th>\n",
       "      <td>16000</td>\n",
       "      <td>16019</td>\n",
       "      <td>15600</td>\n",
       "      <td>15680</td>\n",
       "      <td>457285</td>\n",
       "      <td>-0.029703</td>\n",
       "      <td>16196.0</td>\n",
       "      <td>16402.0</td>\n",
       "      <td>0</td>\n",
       "      <td>0.000000</td>\n",
       "    </tr>\n",
       "    <tr>\n",
       "      <th>2010-02-01</th>\n",
       "      <td>15679</td>\n",
       "      <td>15700</td>\n",
       "      <td>15300</td>\n",
       "      <td>15540</td>\n",
       "      <td>501042</td>\n",
       "      <td>-0.008929</td>\n",
       "      <td>15936.0</td>\n",
       "      <td>16370.0</td>\n",
       "      <td>0</td>\n",
       "      <td>-0.008969</td>\n",
       "    </tr>\n",
       "    <tr>\n",
       "      <th>2010-02-02</th>\n",
       "      <td>15800</td>\n",
       "      <td>15800</td>\n",
       "      <td>15400</td>\n",
       "      <td>15440</td>\n",
       "      <td>393803</td>\n",
       "      <td>-0.006435</td>\n",
       "      <td>15764.0</td>\n",
       "      <td>16320.0</td>\n",
       "      <td>0</td>\n",
       "      <td>-0.006456</td>\n",
       "    </tr>\n",
       "    <tr>\n",
       "      <th>2010-02-03</th>\n",
       "      <td>15640</td>\n",
       "      <td>15700</td>\n",
       "      <td>15360</td>\n",
       "      <td>15540</td>\n",
       "      <td>330235</td>\n",
       "      <td>0.006477</td>\n",
       "      <td>15672.0</td>\n",
       "      <td>16256.0</td>\n",
       "      <td>0</td>\n",
       "      <td>0.006456</td>\n",
       "    </tr>\n",
       "    <tr>\n",
       "      <th>2010-02-04</th>\n",
       "      <td>15500</td>\n",
       "      <td>15660</td>\n",
       "      <td>15440</td>\n",
       "      <td>15520</td>\n",
       "      <td>239799</td>\n",
       "      <td>-0.001287</td>\n",
       "      <td>15544.0</td>\n",
       "      <td>16219.0</td>\n",
       "      <td>0</td>\n",
       "      <td>-0.001288</td>\n",
       "    </tr>\n",
       "    <tr>\n",
       "      <th>...</th>\n",
       "      <td>...</td>\n",
       "      <td>...</td>\n",
       "      <td>...</td>\n",
       "      <td>...</td>\n",
       "      <td>...</td>\n",
       "      <td>...</td>\n",
       "      <td>...</td>\n",
       "      <td>...</td>\n",
       "      <td>...</td>\n",
       "      <td>...</td>\n",
       "    </tr>\n",
       "    <tr>\n",
       "      <th>2020-10-26</th>\n",
       "      <td>60400</td>\n",
       "      <td>61100</td>\n",
       "      <td>60100</td>\n",
       "      <td>60400</td>\n",
       "      <td>13268226</td>\n",
       "      <td>0.003322</td>\n",
       "      <td>60500.0</td>\n",
       "      <td>59610.0</td>\n",
       "      <td>1</td>\n",
       "      <td>0.003317</td>\n",
       "    </tr>\n",
       "    <tr>\n",
       "      <th>2020-10-27</th>\n",
       "      <td>60300</td>\n",
       "      <td>60300</td>\n",
       "      <td>59500</td>\n",
       "      <td>59800</td>\n",
       "      <td>17260416</td>\n",
       "      <td>-0.009934</td>\n",
       "      <td>60280.0</td>\n",
       "      <td>59670.0</td>\n",
       "      <td>1</td>\n",
       "      <td>-0.009983</td>\n",
       "    </tr>\n",
       "    <tr>\n",
       "      <th>2020-10-28</th>\n",
       "      <td>59400</td>\n",
       "      <td>59400</td>\n",
       "      <td>58800</td>\n",
       "      <td>59000</td>\n",
       "      <td>14428882</td>\n",
       "      <td>-0.013378</td>\n",
       "      <td>59900.0</td>\n",
       "      <td>59730.0</td>\n",
       "      <td>1</td>\n",
       "      <td>-0.013468</td>\n",
       "    </tr>\n",
       "    <tr>\n",
       "      <th>2020-10-29</th>\n",
       "      <td>58200</td>\n",
       "      <td>58500</td>\n",
       "      <td>57500</td>\n",
       "      <td>58100</td>\n",
       "      <td>22636966</td>\n",
       "      <td>-0.015254</td>\n",
       "      <td>59500.0</td>\n",
       "      <td>59740.0</td>\n",
       "      <td>0</td>\n",
       "      <td>-0.015372</td>\n",
       "    </tr>\n",
       "    <tr>\n",
       "      <th>2020-10-30</th>\n",
       "      <td>58000</td>\n",
       "      <td>58000</td>\n",
       "      <td>56600</td>\n",
       "      <td>56600</td>\n",
       "      <td>26907844</td>\n",
       "      <td>-0.025818</td>\n",
       "      <td>58780.0</td>\n",
       "      <td>59660.0</td>\n",
       "      <td>0</td>\n",
       "      <td>-0.026157</td>\n",
       "    </tr>\n",
       "  </tbody>\n",
       "</table>\n",
       "<p>2653 rows × 10 columns</p>\n",
       "</div>"
      ],
      "text/plain": [
       "             Open   High    Low  Close    Volume    Change      sma      lma  \\\n",
       "Date                                                                           \n",
       "2010-01-29  16000  16019  15600  15680    457285 -0.029703  16196.0  16402.0   \n",
       "2010-02-01  15679  15700  15300  15540    501042 -0.008929  15936.0  16370.0   \n",
       "2010-02-02  15800  15800  15400  15440    393803 -0.006435  15764.0  16320.0   \n",
       "2010-02-03  15640  15700  15360  15540    330235  0.006477  15672.0  16256.0   \n",
       "2010-02-04  15500  15660  15440  15520    239799 -0.001287  15544.0  16219.0   \n",
       "...           ...    ...    ...    ...       ...       ...      ...      ...   \n",
       "2020-10-26  60400  61100  60100  60400  13268226  0.003322  60500.0  59610.0   \n",
       "2020-10-27  60300  60300  59500  59800  17260416 -0.009934  60280.0  59670.0   \n",
       "2020-10-28  59400  59400  58800  59000  14428882 -0.013378  59900.0  59730.0   \n",
       "2020-10-29  58200  58500  57500  58100  22636966 -0.015254  59500.0  59740.0   \n",
       "2020-10-30  58000  58000  56600  56600  26907844 -0.025818  58780.0  59660.0   \n",
       "\n",
       "            position       rtn  \n",
       "Date                            \n",
       "2010-01-29         0  0.000000  \n",
       "2010-02-01         0 -0.008969  \n",
       "2010-02-02         0 -0.006456  \n",
       "2010-02-03         0  0.006456  \n",
       "2010-02-04         0 -0.001288  \n",
       "...              ...       ...  \n",
       "2020-10-26         1  0.003317  \n",
       "2020-10-27         1 -0.009983  \n",
       "2020-10-28         1 -0.013468  \n",
       "2020-10-29         0 -0.015372  \n",
       "2020-10-30         0 -0.026157  \n",
       "\n",
       "[2653 rows x 10 columns]"
      ]
     },
     "execution_count": 114,
     "metadata": {},
     "output_type": "execute_result"
    }
   ],
   "source": [
    "df.loc[:,'rtn'] = get_return_df(df['Close'],N=1,log=True)\n",
    "df"
   ]
  },
  {
   "cell_type": "code",
   "execution_count": 115,
   "id": "e5e605fc",
   "metadata": {
    "ExecuteTime": {
     "end_time": "2022-04-28T07:19:31.283980Z",
     "start_time": "2022-04-28T07:19:31.268053Z"
    }
   },
   "outputs": [],
   "source": [
    "# 투자전략 수익률\n",
    "df.loc[:,'str_rtn'] = (df['position'].shift(1)*df['rtn']).fillna(0)"
   ]
  },
  {
   "cell_type": "code",
   "execution_count": 116,
   "id": "3cd2d35f",
   "metadata": {
    "ExecuteTime": {
     "end_time": "2022-04-28T07:19:31.330880Z",
     "start_time": "2022-04-28T07:19:31.316892Z"
    }
   },
   "outputs": [],
   "source": [
    "# 투자전략 수익률의 누적합\n",
    "df.loc[:,'cum_str_rtn'] = get_cum_returns_df(df['str_rtn'],log=True)"
   ]
  },
  {
   "cell_type": "code",
   "execution_count": 117,
   "id": "48a42162",
   "metadata": {
    "ExecuteTime": {
     "end_time": "2022-04-28T07:19:31.377757Z",
     "start_time": "2022-04-28T07:19:31.362794Z"
    }
   },
   "outputs": [
    {
     "data": {
      "text/html": [
       "<div>\n",
       "<style scoped>\n",
       "    .dataframe tbody tr th:only-of-type {\n",
       "        vertical-align: middle;\n",
       "    }\n",
       "\n",
       "    .dataframe tbody tr th {\n",
       "        vertical-align: top;\n",
       "    }\n",
       "\n",
       "    .dataframe thead th {\n",
       "        text-align: right;\n",
       "    }\n",
       "</style>\n",
       "<table border=\"1\" class=\"dataframe\">\n",
       "  <thead>\n",
       "    <tr style=\"text-align: right;\">\n",
       "      <th></th>\n",
       "      <th>Open</th>\n",
       "      <th>High</th>\n",
       "      <th>Low</th>\n",
       "      <th>Close</th>\n",
       "      <th>Volume</th>\n",
       "      <th>Change</th>\n",
       "      <th>sma</th>\n",
       "      <th>lma</th>\n",
       "      <th>position</th>\n",
       "      <th>rtn</th>\n",
       "      <th>str_rtn</th>\n",
       "      <th>cum_str_rtn</th>\n",
       "    </tr>\n",
       "    <tr>\n",
       "      <th>Date</th>\n",
       "      <th></th>\n",
       "      <th></th>\n",
       "      <th></th>\n",
       "      <th></th>\n",
       "      <th></th>\n",
       "      <th></th>\n",
       "      <th></th>\n",
       "      <th></th>\n",
       "      <th></th>\n",
       "      <th></th>\n",
       "      <th></th>\n",
       "      <th></th>\n",
       "    </tr>\n",
       "  </thead>\n",
       "  <tbody>\n",
       "    <tr>\n",
       "      <th>2010-01-29</th>\n",
       "      <td>16000</td>\n",
       "      <td>16019</td>\n",
       "      <td>15600</td>\n",
       "      <td>15680</td>\n",
       "      <td>457285</td>\n",
       "      <td>-0.029703</td>\n",
       "      <td>16196.0</td>\n",
       "      <td>16402.0</td>\n",
       "      <td>0</td>\n",
       "      <td>0.000000</td>\n",
       "      <td>0.000000</td>\n",
       "      <td>1.000000</td>\n",
       "    </tr>\n",
       "    <tr>\n",
       "      <th>2010-02-01</th>\n",
       "      <td>15679</td>\n",
       "      <td>15700</td>\n",
       "      <td>15300</td>\n",
       "      <td>15540</td>\n",
       "      <td>501042</td>\n",
       "      <td>-0.008929</td>\n",
       "      <td>15936.0</td>\n",
       "      <td>16370.0</td>\n",
       "      <td>0</td>\n",
       "      <td>-0.008969</td>\n",
       "      <td>-0.000000</td>\n",
       "      <td>1.000000</td>\n",
       "    </tr>\n",
       "    <tr>\n",
       "      <th>2010-02-02</th>\n",
       "      <td>15800</td>\n",
       "      <td>15800</td>\n",
       "      <td>15400</td>\n",
       "      <td>15440</td>\n",
       "      <td>393803</td>\n",
       "      <td>-0.006435</td>\n",
       "      <td>15764.0</td>\n",
       "      <td>16320.0</td>\n",
       "      <td>0</td>\n",
       "      <td>-0.006456</td>\n",
       "      <td>-0.000000</td>\n",
       "      <td>1.000000</td>\n",
       "    </tr>\n",
       "    <tr>\n",
       "      <th>2010-02-03</th>\n",
       "      <td>15640</td>\n",
       "      <td>15700</td>\n",
       "      <td>15360</td>\n",
       "      <td>15540</td>\n",
       "      <td>330235</td>\n",
       "      <td>0.006477</td>\n",
       "      <td>15672.0</td>\n",
       "      <td>16256.0</td>\n",
       "      <td>0</td>\n",
       "      <td>0.006456</td>\n",
       "      <td>0.000000</td>\n",
       "      <td>1.000000</td>\n",
       "    </tr>\n",
       "    <tr>\n",
       "      <th>2010-02-04</th>\n",
       "      <td>15500</td>\n",
       "      <td>15660</td>\n",
       "      <td>15440</td>\n",
       "      <td>15520</td>\n",
       "      <td>239799</td>\n",
       "      <td>-0.001287</td>\n",
       "      <td>15544.0</td>\n",
       "      <td>16219.0</td>\n",
       "      <td>0</td>\n",
       "      <td>-0.001288</td>\n",
       "      <td>-0.000000</td>\n",
       "      <td>1.000000</td>\n",
       "    </tr>\n",
       "    <tr>\n",
       "      <th>...</th>\n",
       "      <td>...</td>\n",
       "      <td>...</td>\n",
       "      <td>...</td>\n",
       "      <td>...</td>\n",
       "      <td>...</td>\n",
       "      <td>...</td>\n",
       "      <td>...</td>\n",
       "      <td>...</td>\n",
       "      <td>...</td>\n",
       "      <td>...</td>\n",
       "      <td>...</td>\n",
       "      <td>...</td>\n",
       "    </tr>\n",
       "    <tr>\n",
       "      <th>2020-10-26</th>\n",
       "      <td>60400</td>\n",
       "      <td>61100</td>\n",
       "      <td>60100</td>\n",
       "      <td>60400</td>\n",
       "      <td>13268226</td>\n",
       "      <td>0.003322</td>\n",
       "      <td>60500.0</td>\n",
       "      <td>59610.0</td>\n",
       "      <td>1</td>\n",
       "      <td>0.003317</td>\n",
       "      <td>0.003317</td>\n",
       "      <td>1.352149</td>\n",
       "    </tr>\n",
       "    <tr>\n",
       "      <th>2020-10-27</th>\n",
       "      <td>60300</td>\n",
       "      <td>60300</td>\n",
       "      <td>59500</td>\n",
       "      <td>59800</td>\n",
       "      <td>17260416</td>\n",
       "      <td>-0.009934</td>\n",
       "      <td>60280.0</td>\n",
       "      <td>59670.0</td>\n",
       "      <td>1</td>\n",
       "      <td>-0.009983</td>\n",
       "      <td>-0.009983</td>\n",
       "      <td>1.338717</td>\n",
       "    </tr>\n",
       "    <tr>\n",
       "      <th>2020-10-28</th>\n",
       "      <td>59400</td>\n",
       "      <td>59400</td>\n",
       "      <td>58800</td>\n",
       "      <td>59000</td>\n",
       "      <td>14428882</td>\n",
       "      <td>-0.013378</td>\n",
       "      <td>59900.0</td>\n",
       "      <td>59730.0</td>\n",
       "      <td>1</td>\n",
       "      <td>-0.013468</td>\n",
       "      <td>-0.013468</td>\n",
       "      <td>1.320808</td>\n",
       "    </tr>\n",
       "    <tr>\n",
       "      <th>2020-10-29</th>\n",
       "      <td>58200</td>\n",
       "      <td>58500</td>\n",
       "      <td>57500</td>\n",
       "      <td>58100</td>\n",
       "      <td>22636966</td>\n",
       "      <td>-0.015254</td>\n",
       "      <td>59500.0</td>\n",
       "      <td>59740.0</td>\n",
       "      <td>0</td>\n",
       "      <td>-0.015372</td>\n",
       "      <td>-0.015372</td>\n",
       "      <td>1.300660</td>\n",
       "    </tr>\n",
       "    <tr>\n",
       "      <th>2020-10-30</th>\n",
       "      <td>58000</td>\n",
       "      <td>58000</td>\n",
       "      <td>56600</td>\n",
       "      <td>56600</td>\n",
       "      <td>26907844</td>\n",
       "      <td>-0.025818</td>\n",
       "      <td>58780.0</td>\n",
       "      <td>59660.0</td>\n",
       "      <td>0</td>\n",
       "      <td>-0.026157</td>\n",
       "      <td>-0.000000</td>\n",
       "      <td>1.300660</td>\n",
       "    </tr>\n",
       "  </tbody>\n",
       "</table>\n",
       "<p>2653 rows × 12 columns</p>\n",
       "</div>"
      ],
      "text/plain": [
       "             Open   High    Low  Close    Volume    Change      sma      lma  \\\n",
       "Date                                                                           \n",
       "2010-01-29  16000  16019  15600  15680    457285 -0.029703  16196.0  16402.0   \n",
       "2010-02-01  15679  15700  15300  15540    501042 -0.008929  15936.0  16370.0   \n",
       "2010-02-02  15800  15800  15400  15440    393803 -0.006435  15764.0  16320.0   \n",
       "2010-02-03  15640  15700  15360  15540    330235  0.006477  15672.0  16256.0   \n",
       "2010-02-04  15500  15660  15440  15520    239799 -0.001287  15544.0  16219.0   \n",
       "...           ...    ...    ...    ...       ...       ...      ...      ...   \n",
       "2020-10-26  60400  61100  60100  60400  13268226  0.003322  60500.0  59610.0   \n",
       "2020-10-27  60300  60300  59500  59800  17260416 -0.009934  60280.0  59670.0   \n",
       "2020-10-28  59400  59400  58800  59000  14428882 -0.013378  59900.0  59730.0   \n",
       "2020-10-29  58200  58500  57500  58100  22636966 -0.015254  59500.0  59740.0   \n",
       "2020-10-30  58000  58000  56600  56600  26907844 -0.025818  58780.0  59660.0   \n",
       "\n",
       "            position       rtn   str_rtn  cum_str_rtn  \n",
       "Date                                                   \n",
       "2010-01-29         0  0.000000  0.000000     1.000000  \n",
       "2010-02-01         0 -0.008969 -0.000000     1.000000  \n",
       "2010-02-02         0 -0.006456 -0.000000     1.000000  \n",
       "2010-02-03         0  0.006456  0.000000     1.000000  \n",
       "2010-02-04         0 -0.001288 -0.000000     1.000000  \n",
       "...              ...       ...       ...          ...  \n",
       "2020-10-26         1  0.003317  0.003317     1.352149  \n",
       "2020-10-27         1 -0.009983 -0.009983     1.338717  \n",
       "2020-10-28         1 -0.013468 -0.013468     1.320808  \n",
       "2020-10-29         0 -0.015372 -0.015372     1.300660  \n",
       "2020-10-30         0 -0.026157 -0.000000     1.300660  \n",
       "\n",
       "[2653 rows x 12 columns]"
      ]
     },
     "execution_count": 117,
     "metadata": {},
     "output_type": "execute_result"
    }
   ],
   "source": [
    "df"
   ]
  },
  {
   "cell_type": "code",
   "execution_count": 118,
   "id": "bfbf0185",
   "metadata": {
    "ExecuteTime": {
     "end_time": "2022-04-28T07:19:31.423630Z",
     "start_time": "2022-04-28T07:19:31.409643Z"
    }
   },
   "outputs": [],
   "source": [
    "cagr = get_cagr_series(df['cum_str_rtn'], num_day_in_year=250)\n",
    "sharp_ratio =get_sharpe_ratio(df['str_rtn'], yearly_rfr = 0.025)"
   ]
  },
  {
   "cell_type": "code",
   "execution_count": 119,
   "id": "34a600c1",
   "metadata": {
    "ExecuteTime": {
     "end_time": "2022-04-28T07:19:31.469511Z",
     "start_time": "2022-04-28T07:19:31.455522Z"
    }
   },
   "outputs": [],
   "source": [
    "mdd_series, longest_dd_period, ldd_sd, ldd_ed = get_drawdown_infos(df['cum_str_rtn'])"
   ]
  },
  {
   "cell_type": "code",
   "execution_count": 120,
   "id": "d8cd4fe6",
   "metadata": {
    "ExecuteTime": {
     "end_time": "2022-04-28T07:19:31.516386Z",
     "start_time": "2022-04-28T07:19:31.502396Z"
    }
   },
   "outputs": [
    {
     "name": "stdout",
     "output_type": "stream",
     "text": [
      "cagr:  1.025080520098154\n",
      "sharp_ratio:  -0.00016068342693508565\n",
      "최대하락폭:  -0.36030614769557534\n",
      "최대하락기간:  1764\n",
      "하락시작기간:  2013-01-02 00:00:00\n",
      "하락끝기간:  2017-11-01 00:00:00\n"
     ]
    }
   ],
   "source": [
    "print('cagr: ',cagr)\n",
    "print('sharp_ratio: ', sharp_ratio)\n",
    "print('최대하락폭: ',mdd_series)\n",
    "print('최대하락기간: ', longest_dd_period)\n",
    "print('하락시작기간: ', ldd_sd)\n",
    "print('하락끝기간: ', ldd_ed)"
   ]
  },
  {
   "cell_type": "code",
   "execution_count": null,
   "id": "79d0b81c",
   "metadata": {},
   "outputs": [],
   "source": []
  },
  {
   "cell_type": "markdown",
   "id": "0e3c1ec6",
   "metadata": {},
   "source": [
    "## 모멘텀 전략"
   ]
  },
  {
   "cell_type": "code",
   "execution_count": 121,
   "id": "a22852cf",
   "metadata": {
    "ExecuteTime": {
     "end_time": "2022-04-28T07:19:31.655986Z",
     "start_time": "2022-04-28T07:19:31.550304Z"
    }
   },
   "outputs": [],
   "source": [
    "df = fdr.DataReader('005930','2018-01-02','2022-04-29')"
   ]
  },
  {
   "cell_type": "code",
   "execution_count": 122,
   "id": "575c14ba",
   "metadata": {
    "ExecuteTime": {
     "end_time": "2022-04-28T07:19:31.702887Z",
     "start_time": "2022-04-28T07:19:31.687900Z"
    }
   },
   "outputs": [],
   "source": [
    "# 3달 모멘텀\n",
    "momentum_window = 20 * 3"
   ]
  },
  {
   "cell_type": "code",
   "execution_count": 123,
   "id": "071b269e",
   "metadata": {
    "ExecuteTime": {
     "end_time": "2022-04-28T07:19:31.750759Z",
     "start_time": "2022-04-28T07:19:31.736769Z"
    }
   },
   "outputs": [
    {
     "data": {
      "text/plain": [
       "Date\n",
       "2018-03-29    0.0\n",
       "2018-03-30   -1.0\n",
       "2018-04-02   -1.0\n",
       "2018-04-03   -1.0\n",
       "2018-04-04   -1.0\n",
       "Name: Close, dtype: float64"
      ]
     },
     "execution_count": 123,
     "metadata": {},
     "output_type": "execute_result"
    }
   ],
   "source": [
    "# np.sign: 0보다 크면 1 작으면 -1 반환\n",
    "position = np.sign(get_return_df(df['Close'],N=momentum_window)) # 3달후 수익률이 0보다 크면 1, 작으면 -1\n",
    "position.head()"
   ]
  },
  {
   "cell_type": "code",
   "execution_count": 124,
   "id": "321a23de",
   "metadata": {
    "ExecuteTime": {
     "end_time": "2022-04-28T07:19:31.795636Z",
     "start_time": "2022-04-28T07:19:31.781650Z"
    }
   },
   "outputs": [
    {
     "data": {
      "text/plain": [
       " 1.0    537\n",
       "-1.0    464\n",
       " 0.0      5\n",
       "Name: Close, dtype: int64"
      ]
     },
     "execution_count": 124,
     "metadata": {},
     "output_type": "execute_result"
    }
   ],
   "source": [
    "position.value_counts()"
   ]
  },
  {
   "cell_type": "code",
   "execution_count": 125,
   "id": "54d65a15",
   "metadata": {
    "ExecuteTime": {
     "end_time": "2022-04-28T07:19:32.275358Z",
     "start_time": "2022-04-28T07:19:32.263361Z"
    }
   },
   "outputs": [],
   "source": [
    "# 매수 포지션만 사용 -> 주식을 가지고 있거나(1), 가지고 있지 않거나(-1)\n",
    "position[position ==-1] = 0"
   ]
  },
  {
   "cell_type": "code",
   "execution_count": 126,
   "id": "dc890d81",
   "metadata": {
    "ExecuteTime": {
     "end_time": "2022-04-28T07:19:32.321206Z",
     "start_time": "2022-04-28T07:19:32.306246Z"
    }
   },
   "outputs": [
    {
     "data": {
      "text/plain": [
       "1.0    537\n",
       "0.0    469\n",
       "Name: Close, dtype: int64"
      ]
     },
     "execution_count": 126,
     "metadata": {},
     "output_type": "execute_result"
    }
   ],
   "source": [
    "position.value_counts()"
   ]
  },
  {
   "cell_type": "code",
   "execution_count": 127,
   "id": "0e5c3497",
   "metadata": {
    "ExecuteTime": {
     "end_time": "2022-04-28T07:19:32.849821Z",
     "start_time": "2022-04-28T07:19:32.719142Z"
    }
   },
   "outputs": [
    {
     "data": {
      "text/plain": [
       "<AxesSubplot:xlabel='Date'>"
      ]
     },
     "execution_count": 127,
     "metadata": {},
     "output_type": "execute_result"
    },
    {
     "data": {
      "image/png": "[encoded data removed]",
      "text/plain": [
       "<Figure size 1080x144 with 1 Axes>"
      ]
     },
     "metadata": {
      "needs_background": "light"
     },
     "output_type": "display_data"
    }
   ],
   "source": [
    "position.plot(marker='.', linestyle='none', figsize=(15,2), ylim=[-1.01,1.7])"
   ]
  },
  {
   "cell_type": "code",
   "execution_count": 128,
   "id": "52e2f7fb",
   "metadata": {
    "ExecuteTime": {
     "end_time": "2022-04-28T07:19:33.085192Z",
     "start_time": "2022-04-28T07:19:33.071201Z"
    }
   },
   "outputs": [],
   "source": [
    "df.loc[:,'position'] = position"
   ]
  },
  {
   "cell_type": "code",
   "execution_count": 129,
   "id": "da0e965a",
   "metadata": {
    "ExecuteTime": {
     "end_time": "2022-04-28T07:19:33.286625Z",
     "start_time": "2022-04-28T07:19:33.279644Z"
    }
   },
   "outputs": [],
   "source": [
    "df.dropna(inplace=True)"
   ]
  },
  {
   "cell_type": "code",
   "execution_count": 130,
   "id": "b312cc7b",
   "metadata": {
    "ExecuteTime": {
     "end_time": "2022-04-28T07:19:33.489114Z",
     "start_time": "2022-04-28T07:19:33.471132Z"
    }
   },
   "outputs": [
    {
     "data": {
      "text/html": [
       "<div>\n",
       "<style scoped>\n",
       "    .dataframe tbody tr th:only-of-type {\n",
       "        vertical-align: middle;\n",
       "    }\n",
       "\n",
       "    .dataframe tbody tr th {\n",
       "        vertical-align: top;\n",
       "    }\n",
       "\n",
       "    .dataframe thead th {\n",
       "        text-align: right;\n",
       "    }\n",
       "</style>\n",
       "<table border=\"1\" class=\"dataframe\">\n",
       "  <thead>\n",
       "    <tr style=\"text-align: right;\">\n",
       "      <th></th>\n",
       "      <th>Open</th>\n",
       "      <th>High</th>\n",
       "      <th>Low</th>\n",
       "      <th>Close</th>\n",
       "      <th>Volume</th>\n",
       "      <th>Change</th>\n",
       "      <th>position</th>\n",
       "    </tr>\n",
       "    <tr>\n",
       "      <th>Date</th>\n",
       "      <th></th>\n",
       "      <th></th>\n",
       "      <th></th>\n",
       "      <th></th>\n",
       "      <th></th>\n",
       "      <th></th>\n",
       "      <th></th>\n",
       "    </tr>\n",
       "  </thead>\n",
       "  <tbody>\n",
       "    <tr>\n",
       "      <th>2018-03-29</th>\n",
       "      <td>48700</td>\n",
       "      <td>49560</td>\n",
       "      <td>48320</td>\n",
       "      <td>49040</td>\n",
       "      <td>201340</td>\n",
       "      <td>0.006982</td>\n",
       "      <td>0.0</td>\n",
       "    </tr>\n",
       "    <tr>\n",
       "      <th>2018-03-30</th>\n",
       "      <td>49080</td>\n",
       "      <td>49900</td>\n",
       "      <td>49080</td>\n",
       "      <td>49220</td>\n",
       "      <td>155542</td>\n",
       "      <td>0.003670</td>\n",
       "      <td>0.0</td>\n",
       "    </tr>\n",
       "    <tr>\n",
       "      <th>2018-04-02</th>\n",
       "      <td>49000</td>\n",
       "      <td>49220</td>\n",
       "      <td>48500</td>\n",
       "      <td>48540</td>\n",
       "      <td>142313</td>\n",
       "      <td>-0.013816</td>\n",
       "      <td>0.0</td>\n",
       "    </tr>\n",
       "    <tr>\n",
       "      <th>2018-04-03</th>\n",
       "      <td>47880</td>\n",
       "      <td>48140</td>\n",
       "      <td>47280</td>\n",
       "      <td>48120</td>\n",
       "      <td>255365</td>\n",
       "      <td>-0.008653</td>\n",
       "      <td>0.0</td>\n",
       "    </tr>\n",
       "    <tr>\n",
       "      <th>2018-04-04</th>\n",
       "      <td>48160</td>\n",
       "      <td>48260</td>\n",
       "      <td>46920</td>\n",
       "      <td>46920</td>\n",
       "      <td>247684</td>\n",
       "      <td>-0.024938</td>\n",
       "      <td>0.0</td>\n",
       "    </tr>\n",
       "    <tr>\n",
       "      <th>...</th>\n",
       "      <td>...</td>\n",
       "      <td>...</td>\n",
       "      <td>...</td>\n",
       "      <td>...</td>\n",
       "      <td>...</td>\n",
       "      <td>...</td>\n",
       "      <td>...</td>\n",
       "    </tr>\n",
       "    <tr>\n",
       "      <th>2022-04-22</th>\n",
       "      <td>67200</td>\n",
       "      <td>67300</td>\n",
       "      <td>66700</td>\n",
       "      <td>67000</td>\n",
       "      <td>11791478</td>\n",
       "      <td>-0.010340</td>\n",
       "      <td>0.0</td>\n",
       "    </tr>\n",
       "    <tr>\n",
       "      <th>2022-04-25</th>\n",
       "      <td>66500</td>\n",
       "      <td>66700</td>\n",
       "      <td>66300</td>\n",
       "      <td>66300</td>\n",
       "      <td>11016474</td>\n",
       "      <td>-0.010448</td>\n",
       "      <td>0.0</td>\n",
       "    </tr>\n",
       "    <tr>\n",
       "      <th>2022-04-26</th>\n",
       "      <td>66400</td>\n",
       "      <td>66700</td>\n",
       "      <td>66100</td>\n",
       "      <td>66100</td>\n",
       "      <td>12946923</td>\n",
       "      <td>-0.003017</td>\n",
       "      <td>0.0</td>\n",
       "    </tr>\n",
       "    <tr>\n",
       "      <th>2022-04-27</th>\n",
       "      <td>65400</td>\n",
       "      <td>65500</td>\n",
       "      <td>64900</td>\n",
       "      <td>65000</td>\n",
       "      <td>18122084</td>\n",
       "      <td>-0.016641</td>\n",
       "      <td>0.0</td>\n",
       "    </tr>\n",
       "    <tr>\n",
       "      <th>2022-04-28</th>\n",
       "      <td>65400</td>\n",
       "      <td>65500</td>\n",
       "      <td>64500</td>\n",
       "      <td>64800</td>\n",
       "      <td>16701453</td>\n",
       "      <td>-0.003077</td>\n",
       "      <td>0.0</td>\n",
       "    </tr>\n",
       "  </tbody>\n",
       "</table>\n",
       "<p>1006 rows × 7 columns</p>\n",
       "</div>"
      ],
      "text/plain": [
       "             Open   High    Low  Close    Volume    Change  position\n",
       "Date                                                                \n",
       "2018-03-29  48700  49560  48320  49040    201340  0.006982       0.0\n",
       "2018-03-30  49080  49900  49080  49220    155542  0.003670       0.0\n",
       "2018-04-02  49000  49220  48500  48540    142313 -0.013816       0.0\n",
       "2018-04-03  47880  48140  47280  48120    255365 -0.008653       0.0\n",
       "2018-04-04  48160  48260  46920  46920    247684 -0.024938       0.0\n",
       "...           ...    ...    ...    ...       ...       ...       ...\n",
       "2022-04-22  67200  67300  66700  67000  11791478 -0.010340       0.0\n",
       "2022-04-25  66500  66700  66300  66300  11016474 -0.010448       0.0\n",
       "2022-04-26  66400  66700  66100  66100  12946923 -0.003017       0.0\n",
       "2022-04-27  65400  65500  64900  65000  18122084 -0.016641       0.0\n",
       "2022-04-28  65400  65500  64500  64800  16701453 -0.003077       0.0\n",
       "\n",
       "[1006 rows x 7 columns]"
      ]
     },
     "execution_count": 130,
     "metadata": {},
     "output_type": "execute_result"
    }
   ],
   "source": [
    "df"
   ]
  },
  {
   "cell_type": "code",
   "execution_count": 131,
   "id": "1b6d074b",
   "metadata": {
    "ExecuteTime": {
     "end_time": "2022-04-28T07:19:33.693565Z",
     "start_time": "2022-04-28T07:19:33.678606Z"
    }
   },
   "outputs": [],
   "source": [
    "# 0 ->1 바뀔때\n",
    "long_index = df[(df['position']-df['position'].shift(1))== 1].index\n",
    "\n",
    "# 1->0 바뀔때\n",
    "exit_index = df[(df['position']-df['position'].shift(1))== -1].index"
   ]
  },
  {
   "cell_type": "code",
   "execution_count": 132,
   "id": "b3db7138",
   "metadata": {
    "ExecuteTime": {
     "end_time": "2022-04-28T07:19:34.135356Z",
     "start_time": "2022-04-28T07:19:33.950850Z"
    }
   },
   "outputs": [
    {
     "data": {
      "text/plain": [
       "<AxesSubplot:xlabel='Date'>"
      ]
     },
     "execution_count": 132,
     "metadata": {},
     "output_type": "execute_result"
    },
    {
     "data": {
      "image/png": "[encoded data removed]",
      "text/plain": [
       "<Figure size 1080x360 with 1 Axes>"
      ]
     },
     "metadata": {
      "needs_background": "light"
     },
     "output_type": "display_data"
    }
   ],
   "source": [
    "ax = df.loc[:,'Close'].loc['2018-01-01':].plot(figsize=(15,5))\n",
    "\n",
    "df.loc[long_index,'Close'].loc['2018-01-01':].plot(marker='o',color='red',linestyle='none',markersize=5)\n",
    "df.loc[exit_index,'Close'].loc['2018-01-01':].plot(marker='o',color='blue',linestyle='none',markersize=5)"
   ]
  },
  {
   "cell_type": "code",
   "execution_count": null,
   "id": "e9761b20",
   "metadata": {},
   "outputs": [],
   "source": []
  },
  {
   "cell_type": "code",
   "execution_count": 133,
   "id": "6606f303",
   "metadata": {
    "ExecuteTime": {
     "end_time": "2022-04-28T07:19:34.851441Z",
     "start_time": "2022-04-28T07:19:34.831495Z"
    }
   },
   "outputs": [],
   "source": [
    "df.loc[:, 'rtn'] = get_returns_df(df['Close'], N=1, log=True)\n",
    "df.loc[:, 'str_rtn'] = (df['position'].shift(1) * df['rtn']).fillna(0)\n",
    "\n",
    "df.loc[:, 'cum_str_rtn'] = get_cum_returns_df(df['str_rtn'], log=True)"
   ]
  },
  {
   "cell_type": "code",
   "execution_count": 134,
   "id": "5501a466",
   "metadata": {
    "ExecuteTime": {
     "end_time": "2022-04-28T07:19:37.396664Z",
     "start_time": "2022-04-28T07:19:37.391650Z"
    },
    "scrolled": true
   },
   "outputs": [],
   "source": [
    "cagr = get_cagr_series(df['cum_str_rtn'], num_day_in_year = 250)\n",
    "sharp_ratio = get_sharpe_ratio(df['str_rtn'], yearly_rfr = 0.025)\n",
    "mdd, ldd_period, ldd_st, ldd_ed = get_drawdown_infos(df['cum_str_rtn'])"
   ]
  },
  {
   "cell_type": "code",
   "execution_count": 135,
   "id": "b512ff3a",
   "metadata": {
    "ExecuteTime": {
     "end_time": "2022-04-28T07:19:44.099741Z",
     "start_time": "2022-04-28T07:19:44.094726Z"
    }
   },
   "outputs": [
    {
     "name": "stdout",
     "output_type": "stream",
     "text": [
      "cagr : 1.0567925409962098\n",
      "sharp_ratio : 0.16541971431568003\n",
      "Max_drawdown : -0.36030614769557534\n",
      "Longest_dd_period : 607\n",
      "Longest_dd_st_date : 2018-04-19 00:00:00\n",
      "Longest_dd_ed_date : 2019-12-17 00:00:00\n"
     ]
    }
   ],
   "source": [
    "print('cagr :', cagr)\n",
    "print('sharp_ratio :', sharp_ratio)\n",
    "print('Max_drawdown :', mdd_series)\n",
    "print('Longest_dd_period :', ldd_period)\n",
    "print('Longest_dd_st_date :', ldd_st)\n",
    "print('Longest_dd_ed_date :', ldd_ed)"
   ]
  },
  {
   "cell_type": "code",
   "execution_count": 136,
   "id": "2244df67",
   "metadata": {
    "ExecuteTime": {
     "end_time": "2022-04-28T07:19:52.794464Z",
     "start_time": "2022-04-28T07:19:52.638882Z"
    }
   },
   "outputs": [
    {
     "data": {
      "text/plain": [
       "<AxesSubplot:xlabel='Date'>"
      ]
     },
     "execution_count": 136,
     "metadata": {},
     "output_type": "execute_result"
    },
    {
     "data": {
      "image/png": "[encoded data removed]",
      "text/plain": [
       "<Figure size 1080x360 with 1 Axes>"
      ]
     },
     "metadata": {
      "needs_background": "light"
     },
     "output_type": "display_data"
    }
   ],
   "source": [
    "df.loc[:, 'cum_str_rtn'].plot(figsize=(15,5))"
   ]
  },
  {
   "cell_type": "code",
   "execution_count": 138,
   "id": "19916cc6",
   "metadata": {
    "ExecuteTime": {
     "end_time": "2022-04-28T07:20:02.727935Z",
     "start_time": "2022-04-28T07:20:02.719926Z"
    }
   },
   "outputs": [],
   "source": [
    "def momentum(df, mw):\n",
    "    \n",
    "    momentum_window=mw\n",
    "    \n",
    "    position = np.sign(get_returns_df(df['Close'], N=momentum_window))\n",
    "    position[position == -1] = 0\n",
    "    \n",
    "    df.loc[:, 'position'] = position\n",
    "    df.dropna(inplace=True)\n",
    "    \n",
    "    df.loc[:, 'rtn'] = get_returns_df(df['Close'], N=1, log=True)\n",
    "    df.loc[:, 'str_rtn'] = (df['position'].shift(1) * df['rtn']).fillna(0)\n",
    "\n",
    "    df.loc[:, 'cum_str_rtn'] = get_cum_returns_df(df['str_rtn'], log=True)\n",
    "    \n",
    "    cagr = get_cagr_series(df['cum_str_rtn'], num_day_in_year = 250)\n",
    "    sharp_ratio = get_sharpe_ratio(df['str_rtn'], yearly_rfr = 0.025)\n",
    "    mdd, ldd_period, ldd_st, ldd_ed = get_drawdown_infos(df['cum_str_rtn'])\n",
    "    \n",
    "    print('cagr :', cagr)\n",
    "    print('sharp_ratio :', sharp_ratio)\n",
    "    print('Max_drawdown :', mdd_series)\n",
    "    print('Longest_dd_period :', ldd_period)\n",
    "    print('Longest_dd_st_date :', ldd_st)\n",
    "    print('Longest_dd_ed_date :', ldd_ed)\n",
    "    \n",
    "    df.loc[:, 'cum_str_rtn'].plot(figsize=(15,5))"
   ]
  },
  {
   "cell_type": "code",
   "execution_count": 139,
   "id": "e3015fdc",
   "metadata": {
    "ExecuteTime": {
     "end_time": "2022-04-28T07:20:03.164765Z",
     "start_time": "2022-04-28T07:20:02.927371Z"
    }
   },
   "outputs": [
    {
     "name": "stdout",
     "output_type": "stream",
     "text": [
      "cagr : 0.987198424896133\n",
      "sharp_ratio : -0.11121261924501334\n",
      "Max_drawdown : -0.36030614769557534\n",
      "Longest_dd_period : 13\n",
      "Longest_dd_st_date : 2018-05-15 00:00:00\n",
      "Longest_dd_ed_date : 2018-05-28 00:00:00\n"
     ]
    },
    {
     "data": {
      "image/png": "[encoded data removed]",
      "text/plain": [
       "<Figure size 1080x360 with 1 Axes>"
      ]
     },
     "metadata": {
      "needs_background": "light"
     },
     "output_type": "display_data"
    }
   ],
   "source": [
    "df = fdr.DataReader('000720','2018-01-02','2022-04-29')\n",
    "mw = 60\n",
    "\n",
    "momentum(df, mw)"
   ]
  },
  {
   "cell_type": "code",
   "execution_count": null,
   "id": "be0cb654",
   "metadata": {},
   "outputs": [],
   "source": []
  }
 ],
 "metadata": {
  "kernelspec": {
   "display_name": "Python 3 (ipykernel)",
   "language": "python",
   "name": "python3"
  },
  "language_info": {
   "codemirror_mode": {
    "name": "ipython",
    "version": 3
   },
   "file_extension": ".py",
   "mimetype": "text/x-python",
   "name": "python",
   "nbconvert_exporter": "python",
   "pygments_lexer": "ipython3",
   "version": "3.9.7"
  },
  "toc": {
   "base_numbering": 1,
   "nav_menu": {},
   "number_sections": true,
   "sideBar": true,
   "skip_h1_title": false,
   "title_cell": "Table of Contents",
   "title_sidebar": "Contents",
   "toc_cell": false,
   "toc_position": {
    "height": "calc(100% - 180px)",
    "left": "10px",
    "top": "150px",
    "width": "349.091px"
   },
   "toc_section_display": true,
   "toc_window_display": true
  },
  "varInspector": {
   "cols": {
    "lenName": 16,
    "lenType": 16,
    "lenVar": 40
   },
   "kernels_config": {
    "python": {
     "delete_cmd_postfix": "",
     "delete_cmd_prefix": "del ",
     "library": "var_list.py",
     "varRefreshCmd": "print(var_dic_list())"
    },
    "r": {
     "delete_cmd_postfix": ") ",
     "delete_cmd_prefix": "rm(",
     "library": "var_list.r",
     "varRefreshCmd": "cat(var_dic_list()) "
    }
   },
   "types_to_exclude": [
    "module",
    "function",
    "builtin_function_or_method",
    "instance",
    "_Feature"
   ],
   "window_display": false
  }
 },
 "nbformat": 4,
 "nbformat_minor": 5
}
